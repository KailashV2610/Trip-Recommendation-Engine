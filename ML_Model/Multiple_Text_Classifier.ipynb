{
 "cells": [
  {
   "cell_type": "code",
   "execution_count": 1,
   "id": "106514b2-8877-4ab7-9aef-c0039c431ac3",
   "metadata": {},
   "outputs": [],
   "source": [
    "import os,re,shutil,string,nltk\n",
    "import tensorflow as tf"
   ]
  },
  {
   "cell_type": "code",
   "execution_count": 2,
   "id": "2872c81d-9aaa-4454-84f7-0418c21793fb",
   "metadata": {},
   "outputs": [],
   "source": [
    "from tensorflow.keras import layers, losses"
   ]
  },
  {
   "cell_type": "code",
   "execution_count": 3,
   "id": "55a365e2-a888-4ff5-86c4-62794ad67d73",
   "metadata": {},
   "outputs": [
    {
     "name": "stderr",
     "output_type": "stream",
     "text": [
      "[nltk_data] Downloading package stopwords to C:\\Users\\Kailash\n",
      "[nltk_data]     PC\\AppData\\Roaming\\nltk_data...\n",
      "[nltk_data]   Package stopwords is already up-to-date!\n"
     ]
    }
   ],
   "source": [
    "from sklearn.feature_extraction.text import CountVectorizer, TfidfTransformer\n",
    "from sklearn.pipeline import Pipeline\n",
    "from sklearn.model_selection import train_test_split\n",
    "from sklearn.naive_bayes import MultinomialNB\n",
    "from sklearn.metrics import accuracy_score, classification_report\n",
    "import pandas as pd\n",
    "import numpy as np\n",
    "from tensorflow.keras.preprocessing.text import Tokenizer\n",
    "from tensorflow.keras.preprocessing.sequence import pad_sequences\n",
    "nltk.download('stopwords')\n",
    "from nltk.corpus import stopwords\n",
    "from bs4 import BeautifulSoup"
   ]
  },
  {
   "cell_type": "code",
   "execution_count": 4,
   "id": "e2cc4328-4fad-4065-b87f-ac882ecbf734",
   "metadata": {},
   "outputs": [],
   "source": [
    "import joblib"
   ]
  },
  {
   "cell_type": "code",
   "execution_count": 5,
   "id": "ab127f55-6897-433d-8da7-f7409a3f8045",
   "metadata": {},
   "outputs": [],
   "source": [
    "label = ['Beach', 'City', 'Culture', 'Nature','Snow']"
   ]
  },
  {
   "cell_type": "code",
   "execution_count": 6,
   "id": "a7f02d18-d3d9-47d1-880a-7fbaeb39042e",
   "metadata": {
    "tags": []
   },
   "outputs": [
    {
     "name": "stdout",
     "output_type": "stream",
     "text": [
      "                                                Text  Label\n",
      "0  Agadir is a beautiful coastal city located in ...  Beach\n",
      "1  AgiosNikolaos is a beautiful coastal town loca...  Beach\n",
      "2  Amalfi Coast in Italy is a stunning coastal pa...  Beach\n",
      "3  Ao Nang, Thailand is a stunning tropical desti...  Beach\n",
      "4  Bali, Indonesia is a paradise for tourists. Th...  Beach\n"
     ]
    }
   ],
   "source": [
    "folder_path = './Train'\n",
    "\n",
    "texts = []\n",
    "labels = []\n",
    "\n",
    "for subfolder in os.listdir(folder_path):\n",
    "    subfolder_path = os.path.join(folder_path, subfolder)\n",
    "    if os.path.isdir(subfolder_path):\n",
    "        for file_name in os.listdir(subfolder_path):\n",
    "            if file_name.endswith('.txt'):\n",
    "                file_path = os.path.join(subfolder_path, file_name)\n",
    "                with open(file_path, 'r', encoding=\"ISO-8859-1\") as file:\n",
    "                    text = file.read()\n",
    "                texts.append(text)\n",
    "                labels.append(subfolder)\n",
    "                \n",
    "df = pd.DataFrame({'Text': texts, 'Label': labels})\n",
    "print(df.head())"
   ]
  },
  {
   "cell_type": "code",
   "execution_count": 7,
   "id": "45018fe4-81a1-4535-941d-473f42fee4e2",
   "metadata": {},
   "outputs": [
    {
     "name": "stdout",
     "output_type": "stream",
     "text": [
      "                                                Text  Label\n",
      "0  About Agadir Soak up the sun on the well-maint...  Beach\n",
      "1  About Greece Greece is one of those rare place...  Beach\n",
      "2  About Anguilla. What makes Anguilla's beaches ...  Beach\n",
      "3  About Ao Nang Packed with all the amenitiesâ...  Beach\n",
      "4  Visitors can hike, paddle, sail, or cruise to ...  Beach\n"
     ]
    }
   ],
   "source": [
    "folder_path = './Test'\n",
    "\n",
    "texts_test = []\n",
    "labels_test = []\n",
    "\n",
    "for subfolder in os.listdir(folder_path):\n",
    "    subfolder_path = os.path.join(folder_path, subfolder)\n",
    "    if os.path.isdir(subfolder_path):\n",
    "        for file_name in os.listdir(subfolder_path):\n",
    "            if file_name.endswith('.txt'):\n",
    "                file_path = os.path.join(subfolder_path, file_name)\n",
    "                with open(file_path, 'r', encoding=\"ISO-8859-1\") as file:\n",
    "                    text = file.read()\n",
    "                texts_test.append(text)\n",
    "                labels_test.append(subfolder)\n",
    "                \n",
    "df_test = pd.DataFrame({'Text': texts_test, 'Label': labels_test})\n",
    "print(df_test.head())"
   ]
  },
  {
   "cell_type": "code",
   "execution_count": 8,
   "id": "7b83a27b-7ef9-4c05-8ff6-18b6223f10ba",
   "metadata": {},
   "outputs": [
    {
     "name": "stdout",
     "output_type": "stream",
     "text": [
      "Beach: 99\n",
      "City: 96\n",
      "Culture: 94\n",
      "Nature: 100\n",
      "Snow: 89\n"
     ]
    }
   ],
   "source": [
    "words = df['Label']\n",
    "word_counts = {}\n",
    "for word in words:\n",
    "    if word in word_counts:\n",
    "        word_counts[word] += 1\n",
    "    else:\n",
    "        word_counts[word] = 1\n",
    "\n",
    "# Print the word counts\n",
    "for word, count in word_counts.items():\n",
    "    print(f\"{word}: {count}\")"
   ]
  },
  {
   "cell_type": "code",
   "execution_count": 9,
   "id": "9b8fbcbc-c329-4e4a-b00e-755d98c007d1",
   "metadata": {},
   "outputs": [
    {
     "name": "stdout",
     "output_type": "stream",
     "text": [
      "Beach: 25\n",
      "City: 25\n",
      "Culture: 19\n",
      "Nature: 30\n",
      "Snow: 22\n"
     ]
    }
   ],
   "source": [
    "words = df_test['Label']\n",
    "word_counts = {}\n",
    "for word in words:\n",
    "    if word in word_counts:\n",
    "        word_counts[word] += 1\n",
    "    else:\n",
    "        word_counts[word] = 1\n",
    "\n",
    "# Print the word counts\n",
    "for word, count in word_counts.items():\n",
    "    print(f\"{word}: {count}\")"
   ]
  },
  {
   "cell_type": "code",
   "execution_count": 10,
   "id": "6e0c1f62-8dc1-40d2-9855-f757af98daaa",
   "metadata": {},
   "outputs": [],
   "source": [
    "def print_plot(index):\n",
    "    example = df[df.index == index][['Text', 'Label']].values[0]\n",
    "    if len(example) > 0:\n",
    "        print(example[0])\n",
    "        print('Tag:', example[1])"
   ]
  },
  {
   "cell_type": "code",
   "execution_count": 11,
   "id": "e4fd26ab-cd1b-4bf4-b176-77e067fc11e6",
   "metadata": {},
   "outputs": [
    {
     "name": "stdout",
     "output_type": "stream",
     "text": [
      "brighton popular seaside town south coast england known vibrant atmosphere stunning beaches diverse culture tourist youll find plenty see exploring historic lanes filled independent shops cafes enjoying iconic pier amusement park legendary brighton palace pier mustvisit thrilling rides traditional seaside entertainment vibrant nightlife scene also highlight numerous bars clubs live music venues choose overall brighton fun welcoming destination something everyone enjoy\n",
      "Tag: Beach\n"
     ]
    }
   ],
   "source": [
    "rep_by_space = re.compile('[/(){}\\[\\]\\|@,;]')\n",
    "bad_symbol = re.compile('[^0-9a-z #+_]')\n",
    "stopwords = set(stopwords.words('english'))\n",
    "\n",
    "def clean_text(text):\n",
    "    \"\"\"\n",
    "    text: a string\n",
    "    return: modified initial string\n",
    "    \"\"\"\n",
    "    text = BeautifulSoup(text, \"lxml\").text\n",
    "    text = text.lower()\n",
    "    text = rep_by_space.sub(' ',text)\n",
    "    text = bad_symbol.sub('',text)\n",
    "    text = ' '.join(word for word in text.split() if word not in stopwords)\n",
    "    return text\n",
    "\n",
    "df['Text'] = df['Text'].apply(clean_text)\n",
    "print_plot(10)"
   ]
  },
  {
   "cell_type": "code",
   "execution_count": 12,
   "id": "611135f3-b5bd-4dce-92a4-d9a97b3fee03",
   "metadata": {},
   "outputs": [],
   "source": [
    "x = df.Text\n",
    "y = df.Label\n",
    "x_train, x_test, y_train, y_test = train_test_split(x,y,test_size = 0.2, random_state = 40)"
   ]
  },
  {
   "cell_type": "code",
   "execution_count": 13,
   "id": "bf187adc-9544-446c-a0bb-17646534099f",
   "metadata": {},
   "outputs": [
    {
     "name": "stdout",
     "output_type": "stream",
     "text": [
      "accuracy: 0.8541666666666666\n",
      "              precision    recall  f1-score   support\n",
      "\n",
      "       Beach       0.75      0.95      0.84        19\n",
      "        City       0.82      0.82      0.82        22\n",
      "     Culture       1.00      0.69      0.81        16\n",
      "      Nature       0.90      0.90      0.90        21\n",
      "        Snow       0.89      0.89      0.89        18\n",
      "\n",
      "    accuracy                           0.85        96\n",
      "   macro avg       0.87      0.85      0.85        96\n",
      "weighted avg       0.87      0.85      0.85        96\n",
      "\n"
     ]
    },
    {
     "data": {
      "text/plain": [
       "['pipeline.pkl']"
      ]
     },
     "execution_count": 13,
     "metadata": {},
     "output_type": "execute_result"
    }
   ],
   "source": [
    "nb = Pipeline([('vect',CountVectorizer()),\n",
    "               ('tfidf',TfidfTransformer()),\n",
    "               ('clf',MultinomialNB()),\n",
    "              ])\n",
    "nb.fit(x_train, y_train)\n",
    "y_pred = nb.predict(x_test)\n",
    "y_prob = nb.predict_proba(x_test)\n",
    "print('accuracy:',accuracy_score(y_pred,y_test))\n",
    "print(classification_report(y_test, y_pred,target_names=label))\n",
    "joblib.dump(nb, \"pipeline.pkl\")"
   ]
  },
  {
   "cell_type": "code",
   "execution_count": 14,
   "id": "9ea4b9e7-e8a6-448c-a660-da98c48024be",
   "metadata": {},
   "outputs": [
    {
     "name": "stdout",
     "output_type": "stream",
     "text": [
      "accuracy: 0.8645833333333334\n",
      "              precision    recall  f1-score   support\n",
      "\n",
      "       Beach       0.77      0.89      0.83        19\n",
      "        City       0.79      0.86      0.83        22\n",
      "     Culture       1.00      0.75      0.86        16\n",
      "      Nature       0.95      0.90      0.93        21\n",
      "        Snow       0.89      0.89      0.89        18\n",
      "\n",
      "    accuracy                           0.86        96\n",
      "   macro avg       0.88      0.86      0.87        96\n",
      "weighted avg       0.88      0.86      0.87        96\n",
      "\n"
     ]
    }
   ],
   "source": [
    "from sklearn.linear_model import SGDClassifier\n",
    "\n",
    "sgd = Pipeline([('vect',CountVectorizer()),\n",
    "                ('tfidf',TfidfTransformer()),\n",
    "                ('clf',SGDClassifier(loss = 'log',alpha=1e-3,random_state=30,max_iter=5,tol=None)),\n",
    "               ])\n",
    "sgd.fit(x_train,y_train)\n",
    "\n",
    "y_pred = sgd.predict(x_test)\n",
    "print('accuracy:',accuracy_score(y_pred,y_test))\n",
    "print(classification_report(y_test,y_pred,target_names=label))"
   ]
  },
  {
   "cell_type": "code",
   "execution_count": 15,
   "id": "49aad4b9-9e2d-442d-9b80-54160e9b73f7",
   "metadata": {},
   "outputs": [],
   "source": [
    "from sklearn.calibration import CalibratedClassifierCV"
   ]
  },
  {
   "cell_type": "code",
   "execution_count": 16,
   "id": "90c7e1ef-88a2-48e6-9bf4-208b681a50d9",
   "metadata": {},
   "outputs": [
    {
     "name": "stdout",
     "output_type": "stream",
     "text": [
      "accuracy: 0.8333333333333334\n",
      "              precision    recall  f1-score   support\n",
      "\n",
      "       Beach       0.74      0.74      0.74        19\n",
      "        City       0.76      0.86      0.81        22\n",
      "     Culture       0.87      0.81      0.84        16\n",
      "      Nature       0.90      0.86      0.88        21\n",
      "        Snow       0.94      0.89      0.91        18\n",
      "\n",
      "    accuracy                           0.83        96\n",
      "   macro avg       0.84      0.83      0.84        96\n",
      "weighted avg       0.84      0.83      0.83        96\n",
      "\n"
     ]
    }
   ],
   "source": [
    "ccc = Pipeline([('vect',CountVectorizer()),\n",
    "                ('tfidf',TfidfTransformer()),\n",
    "                ('clf',CalibratedClassifierCVlassifierCV(SGDClassifier(loss = 'hinge',alpha=1e-3,random_state=30,max_iter=5,tol=None))),\n",
    "               ])\n",
    "ccc.fit(x_train,y_train)\n",
    "\n",
    "y_pred = ccc.predict(x_test)\n",
    "print('accuracy:',accuracy_score(y_pred,y_test))\n",
    "print(classification_report(y_test,y_pred,target_names=label))"
   ]
  },
  {
   "cell_type": "code",
   "execution_count": 17,
   "id": "4ad9ae98-6c7b-4de5-b100-40a70397e2b6",
   "metadata": {},
   "outputs": [
    {
     "name": "stdout",
     "output_type": "stream",
     "text": [
      "Accuracy: 0.8229166666666666\n",
      "              precision    recall  f1-score   support\n",
      "\n",
      "       Beach       0.74      0.74      0.74        19\n",
      "        City       0.73      0.86      0.79        22\n",
      "     Culture       0.86      0.75      0.80        16\n",
      "      Nature       0.90      0.86      0.88        21\n",
      "        Snow       0.94      0.89      0.91        18\n",
      "\n",
      "    accuracy                           0.82        96\n",
      "   macro avg       0.83      0.82      0.82        96\n",
      "weighted avg       0.83      0.82      0.82        96\n",
      "\n"
     ]
    },
    {
     "data": {
      "text/plain": [
       "['logreg.pkl']"
      ]
     },
     "execution_count": 17,
     "metadata": {},
     "output_type": "execute_result"
    }
   ],
   "source": [
    "from sklearn.linear_model import LogisticRegression\n",
    "\n",
    "logreg = Pipeline([('vect',CountVectorizer()),\n",
    "                   ('tfidf',TfidfTransformer()),\n",
    "                   ('clf',LogisticRegression(n_jobs=1,C=1e5)),\n",
    "                  ])\n",
    "logreg.fit(x_train,y_train)\n",
    "y_pred = logreg.predict(x_test)\n",
    "print(\"Accuracy:\",accuracy_score(y_pred,y_test))\n",
    "print(classification_report(y_test,y_pred,target_names=label))\n",
    "joblib.dump(logreg, \"logreg.pkl\")"
   ]
  },
  {
   "cell_type": "code",
   "execution_count": 18,
   "id": "7668cb16-f19f-4d56-b527-f5b2ab40f956",
   "metadata": {},
   "outputs": [
    {
     "name": "stdout",
     "output_type": "stream",
     "text": [
      "[[0.46407243 0.05766777 0.24655131 0.21248747 0.01922101]]\n",
      "[[0.32350238 0.13861892 0.26901189 0.18552893 0.08333787]]\n",
      "[[0.71693786 0.00819176 0.16850693 0.10512231 0.00124114]]\n",
      "[[0.33645397 0.17268854 0.22567487 0.16277273 0.10240989]]\n"
     ]
    }
   ],
   "source": [
    "text_sample = [\"The sandy coast of Goa is perfect for reclining by the sea. Nestle into a cushioned chair at a beach shack and savor a curry while you sip a Kingfisher beer, watching the sun slip lazily below the horizon. In Old Goa, the beautiful Basilica of Bom Jesus is a UNESCO World Heritage Site and a fine example of baroque architecture. Visit during Christmastime to experience a fantastic religious and cultural mash-up of East and West.\"]\n",
    "pred_label_1 = nb.predict(text_sample)\n",
    "pred_label_2 = logreg.predict(text_sample)\n",
    "pred_label_x = nb.predict_proba(text_sample)\n",
    "pred_label_y = logreg.predict_proba(text_sample)\n",
    "pred_label_z = sgd.predict_proba(text_sample)\n",
    "pred_label_z1 = ccc.predict_proba(text_sample)\n",
    "print(pred_label_z1)\n",
    "print(pred_label_z)\n",
    "print(pred_label_y)\n",
    "print(pred_label_x)"
   ]
  },
  {
   "cell_type": "code",
   "execution_count": 19,
   "id": "e1e2bb9f-3bf4-406e-b2e2-e5408ab8e910",
   "metadata": {},
   "outputs": [
    {
     "data": {
      "text/plain": [
       "['Beach', 'City', 'Culture', 'Nature', 'Snow']"
      ]
     },
     "execution_count": 19,
     "metadata": {},
     "output_type": "execute_result"
    }
   ],
   "source": [
    "label"
   ]
  },
  {
   "cell_type": "code",
   "execution_count": 20,
   "id": "e0054a1c-b2d5-4175-83bb-4258c0d25312",
   "metadata": {},
   "outputs": [
    {
     "name": "stdout",
     "output_type": "stream",
     "text": [
      "['Beach']\n",
      "['Beach']\n"
     ]
    }
   ],
   "source": [
    "print(pred_label_1)\n",
    "print(pred_label_2)"
   ]
  },
  {
   "cell_type": "markdown",
   "id": "07bb3300-7174-4623-bf25-003e37f9e5da",
   "metadata": {},
   "source": [
    "---"
   ]
  },
  {
   "cell_type": "code",
   "execution_count": 21,
   "id": "119c4fa7-71d8-4eec-b8d4-480c6781de72",
   "metadata": {},
   "outputs": [],
   "source": [
    "import itertools\n",
    "import os\n",
    "\n",
    "%matplotlib inline\n",
    "import matplotlib.pyplot as plt\n",
    "import numpy as np\n",
    "import pandas as pd\n",
    "import tensorflow as tf\n",
    "\n",
    "from sklearn.preprocessing import LabelBinarizer, LabelEncoder\n",
    "from sklearn.metrics import confusion_matrix\n",
    "\n",
    "from tensorflow import keras\n",
    "from keras.models import Sequential\n",
    "from keras.layers import Dense, Activation, Dropout,Conv1D,MaxPooling1D,GlobalMaxPooling1D, LSTM, Flatten, Reshape\n",
    "from keras.preprocessing import text, sequence\n",
    "from keras.optimizers import Adam\n",
    "from keras import utils"
   ]
  },
  {
   "cell_type": "code",
   "execution_count": 22,
   "id": "2027eecb-1e62-4357-9419-2015248cd85a",
   "metadata": {},
   "outputs": [],
   "source": [
    "train_text = df['Text']\n",
    "train_label = df['Label']\n",
    "test_text = df_test['Text']\n",
    "test_label = df_test['Label']"
   ]
  },
  {
   "cell_type": "code",
   "execution_count": 23,
   "id": "a789de1b-5c2e-40f8-8138-6d24f9f58558",
   "metadata": {},
   "outputs": [
    {
     "name": "stdout",
     "output_type": "stream",
     "text": [
      "{'Snow', 'Culture', 'Beach', 'City', 'Nature'}\n",
      "{'Snow', 'Culture', 'Beach', 'City', 'Nature'}\n"
     ]
    }
   ],
   "source": [
    "print(set(train_label))\n",
    "print(set(test_label))"
   ]
  },
  {
   "cell_type": "code",
   "execution_count": 24,
   "id": "98d8148e-1fcf-4ddf-ba9b-ad906b08a2ea",
   "metadata": {},
   "outputs": [],
   "source": [
    "max_words = 1000\n",
    "max_length = 1000\n",
    "tokenize = text.Tokenizer(num_words=max_words,char_level=False)\n",
    "tokenize.fit_on_texts(train_text)\n",
    "x_train = tokenize.texts_to_matrix(train_text)\n",
    "x_test = tokenize.texts_to_matrix(test_text)"
   ]
  },
  {
   "cell_type": "code",
   "execution_count": 25,
   "id": "6a410591-7129-4ef7-b2be-2b19db39df38",
   "metadata": {},
   "outputs": [],
   "source": [
    "encoder = LabelEncoder()\n",
    "encoder.fit(train_label)\n",
    "y_train = encoder.transform(train_label)\n",
    "y_test = encoder.transform(test_label)\n",
    "num_classes = np.max(y_train)+1\n",
    "y_train = utils.to_categorical(y_train,num_classes)\n",
    "y_test = utils.to_categorical(y_test,num_classes)\n",
    "batch_size = 32\n",
    "embedding_dim = 32"
   ]
  },
  {
   "cell_type": "code",
   "execution_count": 26,
   "id": "311e88d1-f937-44a0-a2c2-c204ff6c727f",
   "metadata": {},
   "outputs": [],
   "source": [
    "model_c = Sequential()\n",
    "\n",
    "model_c.add(Conv1D(8,kernel_size=3,activation=\"relu\",input_shape=(max_words,1)))\n",
    "model_c.add(MaxPooling1D(pool_size=2))\n",
    "model_c.add(Dropout(0.2))\n",
    "'''\n",
    "model_c.add(Conv1D(16,kernel_size=3,activation=\"relu\",input_shape=(max_words,1)))\n",
    "model_c.add(MaxPooling1D(pool_size=2))\n",
    "model_c.add(Dropout(0.2))\n",
    "'''\n",
    "model_c.add(Conv1D(64,kernel_size=3,activation=\"relu\",input_shape=(max_words,1)))\n",
    "model_c.add(MaxPooling1D(pool_size=2))\n",
    "model_c.add(Dropout(0.2))\n",
    "'''\n",
    "model_c.add(Conv1D(128,kernel_size=3,activation=\"relu\",input_shape=(max_words,1)))\n",
    "model_c.add(MaxPooling1D(pool_size=2))\n",
    "model_c.add(Dropout(0.2))\n",
    "model_c.add(Conv1D(256,kernel_size=3,activation=\"relu\",input_shape=(max_words,1)))\n",
    "model_c.add(MaxPooling1D(pool_size=2))\n",
    "'''\n",
    "model_c.add(LSTM(units=64, dropout=0.2, recurrent_dropout=0.2, return_sequences=True))\n",
    "model_c.add(GlobalMaxPooling1D())\n",
    "'''\n",
    "model_c.add(Dropout(0.5))\n",
    "model_c.add(Flatten())\n",
    "model_c.add(Reshape((max_words,256)))\n",
    "model_c.add(LSTM(32,return_sequences=True))\n",
    "model_c.add(LSTM(32))\n",
    "'''\n",
    "model_c.add(Dense(128))\n",
    "model_c.add(Activation('relu'))\n",
    "model_c.add(Dropout(0.7))\n",
    "'''\n",
    "model_c.add(Dense(64))\n",
    "model_c.add(Activation('relu'))\n",
    "model_c.add(Dropout(0.7))\n",
    "'''\n",
    "model_c.add(Dense(32))\n",
    "model_c.add(Activation('relu'))\n",
    "model_c.add(Dropout(0.5))\n",
    "model_c.add(Dense(num_classes,activation=\"sigmoid\"))\n",
    "\n",
    "optimizer = Adam(learning_rate=0.001)\n",
    "model_c.compile(loss='categorical_crossentropy', optimizer='adam', metrics=['accuracy'])"
   ]
  },
  {
   "cell_type": "code",
   "execution_count": 27,
   "id": "836963f2-6f4d-4126-9ae7-56678c57b628",
   "metadata": {},
   "outputs": [
    {
     "name": "stdout",
     "output_type": "stream",
     "text": [
      "Model: \"sequential\"\n",
      "_________________________________________________________________\n",
      " Layer (type)                Output Shape              Param #   \n",
      "=================================================================\n",
      " conv1d (Conv1D)             (None, 998, 8)            32        \n",
      "                                                                 \n",
      " max_pooling1d (MaxPooling1D  (None, 499, 8)           0         \n",
      " )                                                               \n",
      "                                                                 \n",
      " dropout (Dropout)           (None, 499, 8)            0         \n",
      "                                                                 \n",
      " conv1d_1 (Conv1D)           (None, 497, 64)           1600      \n",
      "                                                                 \n",
      " max_pooling1d_1 (MaxPooling  (None, 248, 64)          0         \n",
      " 1D)                                                             \n",
      "                                                                 \n",
      " dropout_1 (Dropout)         (None, 248, 64)           0         \n",
      "                                                                 \n",
      " lstm (LSTM)                 (None, 248, 64)           33024     \n",
      "                                                                 \n",
      " global_max_pooling1d (Globa  (None, 64)               0         \n",
      " lMaxPooling1D)                                                  \n",
      "                                                                 \n",
      " dense (Dense)               (None, 128)               8320      \n",
      "                                                                 \n",
      " activation (Activation)     (None, 128)               0         \n",
      "                                                                 \n",
      " dropout_2 (Dropout)         (None, 128)               0         \n",
      "                                                                 \n",
      " dense_1 (Dense)             (None, 32)                4128      \n",
      "                                                                 \n",
      " activation_1 (Activation)   (None, 32)                0         \n",
      "                                                                 \n",
      " dropout_3 (Dropout)         (None, 32)                0         \n",
      "                                                                 \n",
      " dense_2 (Dense)             (None, 5)                 165       \n",
      "                                                                 \n",
      "=================================================================\n",
      "Total params: 47,269\n",
      "Trainable params: 47,269\n",
      "Non-trainable params: 0\n",
      "_________________________________________________________________\n"
     ]
    }
   ],
   "source": [
    "model_c.summary()"
   ]
  },
  {
   "cell_type": "code",
   "execution_count": 29,
   "id": "0c70e376-5a8c-4996-b1db-b7feebd58a0b",
   "metadata": {},
   "outputs": [
    {
     "name": "stdout",
     "output_type": "stream",
     "text": [
      "Epoch 1/10\n",
      "12/12 [==============================] - 8s 327ms/step - loss: 1.6241 - accuracy: 0.1937 - val_loss: 1.6529 - val_accuracy: 0.0000e+00\n",
      "Epoch 2/10\n",
      "12/12 [==============================] - 3s 276ms/step - loss: 1.5956 - accuracy: 0.2147 - val_loss: 1.7101 - val_accuracy: 0.0000e+00\n",
      "Epoch 3/10\n",
      "12/12 [==============================] - 3s 276ms/step - loss: 1.5812 - accuracy: 0.2827 - val_loss: 1.7888 - val_accuracy: 0.0000e+00\n",
      "Epoch 4/10\n",
      "12/12 [==============================] - 3s 250ms/step - loss: 1.5695 - accuracy: 0.2435 - val_loss: 1.8959 - val_accuracy: 0.0000e+00\n",
      "Epoch 5/10\n",
      "12/12 [==============================] - 3s 250ms/step - loss: 1.5481 - accuracy: 0.2749 - val_loss: 2.0840 - val_accuracy: 0.0000e+00\n",
      "Epoch 6/10\n",
      "12/12 [==============================] - 3s 247ms/step - loss: 1.5418 - accuracy: 0.2696 - val_loss: 2.1597 - val_accuracy: 0.0000e+00\n",
      "Epoch 7/10\n",
      "12/12 [==============================] - 3s 243ms/step - loss: 1.5264 - accuracy: 0.2565 - val_loss: 2.2543 - val_accuracy: 0.0000e+00\n",
      "Epoch 8/10\n",
      "12/12 [==============================] - 3s 283ms/step - loss: 1.5222 - accuracy: 0.2592 - val_loss: 2.2108 - val_accuracy: 0.0000e+00\n",
      "Epoch 9/10\n",
      "12/12 [==============================] - 3s 246ms/step - loss: 1.4828 - accuracy: 0.2539 - val_loss: 2.5805 - val_accuracy: 0.0000e+00\n",
      "Epoch 10/10\n",
      "12/12 [==============================] - 3s 240ms/step - loss: 1.5145 - accuracy: 0.2251 - val_loss: 2.4757 - val_accuracy: 0.0000e+00\n"
     ]
    }
   ],
   "source": [
    "history = model_c.fit(x_train,y_train,batch_size=batch_size,epochs = 10,verbose=1,validation_split=0.2)"
   ]
  },
  {
   "cell_type": "code",
   "execution_count": 28,
   "id": "47af9744-cc90-4585-b58a-14066ffb832d",
   "metadata": {},
   "outputs": [
    {
     "name": "stdout",
     "output_type": "stream",
     "text": [
      "4/4 [==============================] - 1s 57ms/step - loss: 1.6088 - accuracy: 0.1818\n",
      "Test loss: 1.6088290214538574\n",
      "Test accuracy: 0.1818181872367859\n"
     ]
    }
   ],
   "source": [
    "score = model_c.evaluate(x_test, y_test,\n",
    "                       batch_size=batch_size, verbose=1)\n",
    "print('Test loss:',score[0])\n",
    "print('Test accuracy:', score[1])"
   ]
  },
  {
   "cell_type": "code",
   "execution_count": 29,
   "id": "b39991a6-701a-46b1-abb5-dc3461d8b88b",
   "metadata": {},
   "outputs": [],
   "source": [
    "text_sample = [\"The sandy coast of Goa is perfect for reclining by the sea. Nestle into a cushioned chair at a beach shack and savor a curry while you sip a Kingfisher beer, watching the sun slip lazily below the horizon. In Old Goa, the beautiful Basilica of Bom Jesus is a UNESCO World Heritage Site and a fine example of baroque architecture. Visit during Christmastime to experience a fantastic religious and cultural mash-up of East and West.\"]\n",
    "tokenize.fit_on_texts(text_sample)\n",
    "text_sample = tokenize.texts_to_matrix(text_sample)"
   ]
  },
  {
   "cell_type": "code",
   "execution_count": 30,
   "id": "ea2907f8-dedd-4758-bd07-2e5b2f4abbfc",
   "metadata": {},
   "outputs": [
    {
     "name": "stdout",
     "output_type": "stream",
     "text": [
      "1/1 [==============================] - 0s 387ms/step\n",
      "[[0.50056404 0.4983857  0.4981679  0.5015116  0.504509  ]]\n"
     ]
    }
   ],
   "source": [
    "pred_label_3 = model_c.predict(text_sample)\n",
    "print(pred_label_3)"
   ]
  },
  {
   "cell_type": "code",
   "execution_count": 31,
   "id": "9af31d64-2cb9-48a1-9eda-81782e2684f5",
   "metadata": {},
   "outputs": [
    {
     "data": {
      "text/plain": [
       "['Beach', 'City', 'Culture', 'Nature', 'Snow']"
      ]
     },
     "execution_count": 31,
     "metadata": {},
     "output_type": "execute_result"
    }
   ],
   "source": [
    "label"
   ]
  },
  {
   "cell_type": "code",
   "execution_count": 34,
   "id": "01e533b6-9706-4c9a-a321-4c6d1392d8f9",
   "metadata": {},
   "outputs": [
    {
     "data": {
      "text/plain": [
       "dict_keys(['loss', 'accuracy', 'val_loss', 'val_accuracy'])"
      ]
     },
     "execution_count": 34,
     "metadata": {},
     "output_type": "execute_result"
    }
   ],
   "source": [
    "history_dict = history.history\n",
    "history_dict.keys()"
   ]
  },
  {
   "cell_type": "code",
   "execution_count": 35,
   "id": "8e3233d6-729e-4703-aca4-915984fbd31f",
   "metadata": {},
   "outputs": [
    {
     "data": {
      "image/png": "[encoded data removed]",
      "text/plain": [
       "<Figure size 640x480 with 1 Axes>"
      ]
     },
     "metadata": {},
     "output_type": "display_data"
    }
   ],
   "source": [
    "import matplotlib.pyplot as plt\n",
    "acc = history_dict['accuracy']\n",
    "val_acc = history_dict['val_accuracy']\n",
    "loss = history_dict['loss']\n",
    "val_loss = history_dict['val_loss']\n",
    "epochs = range(1,len(acc)+1)\n",
    "\n",
    "plt.plot(epochs, loss, 'bo',label = 'Training Loss')\n",
    "plt.plot(epochs, val_loss,'b',label = 'Validation Loss')\n",
    "plt.title(\"Training and Validation Loss\")\n",
    "plt.xlabel('Epochs')\n",
    "plt.ylabel('Loss')\n",
    "plt.legend()\n",
    "plt.show()"
   ]
  },
  {
   "cell_type": "code",
   "execution_count": 36,
   "id": "7a4e22c1-32a1-40b9-a2bf-f8214699cc29",
   "metadata": {},
   "outputs": [
    {
     "data": {
      "image/png": "[encoded data removed]",
      "text/plain": [
       "<Figure size 640x480 with 1 Axes>"
      ]
     },
     "metadata": {},
     "output_type": "display_data"
    }
   ],
   "source": [
    "plt.plot(epochs, acc, 'bo',label = 'Training Accuracy')\n",
    "plt.plot(epochs, val_acc,'b',label = 'Validation Accuracy')\n",
    "plt.title(\"Training and Validation Accuracy\")\n",
    "plt.xlabel('Epochs')\n",
    "plt.ylabel('Accuracy')\n",
    "plt.legend()\n",
    "plt.show()"
   ]
  },
  {
   "cell_type": "code",
   "execution_count": 37,
   "id": "7c53715a-e447-4a59-b1f7-7060e38b322c",
   "metadata": {},
   "outputs": [
    {
     "name": "stdout",
     "output_type": "stream",
     "text": [
      "1/1 [==============================] - 0s 47ms/step\n"
     ]
    }
   ],
   "source": [
    "text_1 = [\"Iceland is a Nordic island country located in the North Atlantic, known for its stunning natural landscapes, including glaciers, hot springs, and geysers. It has a population of around 360,000 people, making it the most sparsely populated country in Europe. The capital city of Iceland is Reykjavik.Iceland has a subarctic climate, with long winters and short summers. The country is situated on the Mid-Atlantic Ridge, a geological boundary where two tectonic plates meet, resulting in a unique landscape of volcanic activity and geothermal features. Iceland is known for its outdoor activities, such as hiking, skiing, and whale watching, as well as its vibrant cultural scene, including music festivals and art exhibitions. Icelandic cuisine is known for its fresh seafood, lamb, and dairy products, as well as unique dishes like fermented shark and smoked lamb.The country has a highly developed economy, with a focus on fishing, tourism, and renewable energy. Iceland is also known for its strong social welfare system and progressive values, including equal rights for women and LGBTQ+ individuals.Overall, Iceland is a fascinating country with a unique culture and stunning natural beauty, making it a popular destination for travelers from around the world.\"]\n",
    "tokenize.fit_on_texts(text_1)\n",
    "text_1 = tokenize.texts_to_matrix(text_1)\n",
    "pred_label_10 = model_c.predict(text_1)"
   ]
  },
  {
   "cell_type": "code",
   "execution_count": 38,
   "id": "ae71965f-6477-46a3-b3cb-958a3da7aaae",
   "metadata": {},
   "outputs": [
    {
     "name": "stdout",
     "output_type": "stream",
     "text": [
      "[[0.56197935 0.5633768  0.53894377 0.5331133  0.28608543]]\n"
     ]
    }
   ],
   "source": [
    "print(pred_label_10)"
   ]
  },
  {
   "cell_type": "code",
   "execution_count": 47,
   "id": "a0b21926-57f6-41dc-a37c-4683b7b697e8",
   "metadata": {},
   "outputs": [
    {
     "name": "stdout",
     "output_type": "stream",
     "text": [
      "                                                Text  Label  \\\n",
      "0  Agadir is a beautiful coastal city located in ...  Beach   \n",
      "1  AgiosNikolaos is a beautiful coastal town loca...  Beach   \n",
      "2  Amalfi Coast in Italy is a stunning coastal pa...  Beach   \n",
      "3  Ao Nang, Thailand is a stunning tropical desti...  Beach   \n",
      "4  Bali, Indonesia is a paradise for tourists. Th...  Beach   \n",
      "\n",
      "                  File_Name                                      Probabilities  \n",
      "0        Agadir_Morocco.txt  [0.1077773474553823, 0.8909718768190242, 0.000...  \n",
      "1  AgiosNikolaos_Greece.txt  [0.9998764369221007, 1.1826078169396237e-05, 7...  \n",
      "2     AmalfiCoast_Italy.txt  [0.9999401513335537, 9.906577744946488e-06, 1....  \n",
      "3       AoNang_Thailand.txt  [0.999818762283659, 9.121662757148821e-05, 6.7...  \n",
      "4        Bali_Indonesia.txt  [0.09705383964782384, 0.7289126580843109, 0.09...  \n"
     ]
    }
   ],
   "source": [
    "folder_path = './Train'\n",
    "\n",
    "texts = []\n",
    "labels = []\n",
    "file_names = []\n",
    "probabilities = []  \n",
    "np.set_printoptions(precision=6, suppress=True)\n",
    "for subfolder in os.listdir(folder_path):\n",
    "    subfolder_path = os.path.join(folder_path, subfolder)\n",
    "    if os.path.isdir(subfolder_path):\n",
    "        for file_name in os.listdir(subfolder_path):\n",
    "            if file_name.endswith('.txt'):\n",
    "                file_path = os.path.join(subfolder_path, file_name)\n",
    "                with open(file_path, 'r', encoding=\"ISO-8859-1\") as file:\n",
    "                    text = file.read()\n",
    "                texts.append(text)\n",
    "                labels.append(subfolder)\n",
    "                file_names.append(file_name)\n",
    "                \n",
    "                proba = logreg.predict_proba([text])[0]\n",
    "                probabilities.append(proba)\n",
    "                \n",
    "df = pd.DataFrame({'Text': texts, 'Label': labels, 'File_Name': file_names, 'Probabilities': probabilities})\n",
    "print(df.head())"
   ]
  },
  {
   "cell_type": "code",
   "execution_count": 93,
   "id": "cd457db0-664f-4935-b669-c4d5ac8bfd83",
   "metadata": {},
   "outputs": [],
   "source": [
    "df.to_csv(\"probability.csv\",index=False)"
   ]
  },
  {
   "cell_type": "code",
   "execution_count": 48,
   "id": "770ae159-051c-4e5e-976c-ed83784f2fba",
   "metadata": {},
   "outputs": [
    {
     "name": "stdin",
     "output_type": "stream",
     "text": [
      "Enter favorite place 1:  Taipei, Taiwan is a vibrant and exciting city that offers a perfect blend of modernity and tradition to tourists. It's famous for its beautiful parks, delicious food, and bustling night markets. Visitors can soak up the rich culture of the city by visiting its many temples, including the famous Longshan Temple. Taipei 101, one of the tallest buildings in the world, offers breathtaking views of the city. The National Palace Museum has an extensive collection of Chinese art and is a must-visit for history buffs. With excellent public transportation, friendly locals, and a laid-back atmosphere, Taipei is an ideal destination for a memorable vacation.\n",
      "Enter favorite place 2:  Da Nang is a vibrant coastal city in central Vietnam. It is a popular tourist destination with beautiful beaches, charming architecture, and a rich culture. The city is home to some of the best seafood restaurants in the country, which serve delicious local dishes like banh xeo and mi quang. Visitors can explore the ancient temples like the Linh Ung Pagoda and the Marble Mountains, or take a stroll along the Han River. The Ba Na Hills offer stunning views of the surrounding countryside and the famous Golden Bridge. Da Nang's warm weather and friendly locals complete the perfect tourist experience.\n",
      "Enter favorite place 3:  Maldives is a tropical paradise located in the Indian Ocean, consisting of over 1,000 coral islands. The crystal-clear turquoise waters, white sandy beaches and verdant palm trees are just a few of the attractions that draw tourists to this stunning destination. Its year-round warm and sunny climate makes it perfect for swimming, snorkelling, diving and other water sports. Visitors can relax on their own private island, indulge in luxurious spa treatments, explore the local culture and cuisine, or simply soak up the breathtaking natural beauty. With its peaceful atmosphere and laid-back lifestyle, Maldives offers a unique escape from the stresses of everyday life.\n"
     ]
    }
   ],
   "source": [
    "import pandas as pd\n",
    "import numpy as np\n",
    "from sklearn.metrics.pairwise import cosine_similarity\n",
    "\n",
    "# Load the CSV file into a pandas DataFrame\n",
    "df = pd.read_csv('probability.csv')\n",
    "\n",
    "# Create a dictionary of places and their classification probabilities\n",
    "places = {}\n",
    "for index, row in df.iterrows():\n",
    "    index = row['Index']\n",
    "    place_name = row['File_Name']\n",
    "    probabilities = np.array([row['P_Beach'], row['P_City'], row['P_Culture'], row['P_Nature'], row['P_Snow']])\n",
    "    label = row['Label']\n",
    "    if label not in places:\n",
    "        places[label] = {}\n",
    "    places[label][place_name] = probabilities\n",
    "\n",
    "# Get input from the user\n",
    "input_places = []\n",
    "for i in range(3):\n",
    "    place = input(f'Enter favorite place {i+1}: ')\n",
    "    input_places.append(place)"
   ]
  },
  {
   "cell_type": "code",
   "execution_count": 34,
   "id": "10646110-af4f-4231-be8b-98c02ca94c3f",
   "metadata": {},
   "outputs": [
    {
     "data": {
      "text/html": [
       "<div>\n",
       "<style scoped>\n",
       "    .dataframe tbody tr th:only-of-type {\n",
       "        vertical-align: middle;\n",
       "    }\n",
       "\n",
       "    .dataframe tbody tr th {\n",
       "        vertical-align: top;\n",
       "    }\n",
       "\n",
       "    .dataframe thead th {\n",
       "        text-align: right;\n",
       "    }\n",
       "</style>\n",
       "<table border=\"1\" class=\"dataframe\">\n",
       "  <thead>\n",
       "    <tr style=\"text-align: right;\">\n",
       "      <th></th>\n",
       "      <th>Index</th>\n",
       "      <th>Text</th>\n",
       "      <th>Label</th>\n",
       "      <th>File_Name</th>\n",
       "      <th>P_Beach</th>\n",
       "      <th>P_City</th>\n",
       "      <th>P_Culture</th>\n",
       "      <th>P_Nature</th>\n",
       "      <th>P_Snow</th>\n",
       "    </tr>\n",
       "  </thead>\n",
       "  <tbody>\n",
       "    <tr>\n",
       "      <th>0</th>\n",
       "      <td>1</td>\n",
       "      <td>Agadir is a beautiful coastal city located in ...</td>\n",
       "      <td>Beach</td>\n",
       "      <td>Agadir Morocco.txt</td>\n",
       "      <td>0.107777</td>\n",
       "      <td>0.890972</td>\n",
       "      <td>0.000546</td>\n",
       "      <td>0.000255</td>\n",
       "      <td>0.000450</td>\n",
       "    </tr>\n",
       "    <tr>\n",
       "      <th>1</th>\n",
       "      <td>2</td>\n",
       "      <td>AgiosNikolaos is a beautiful coastal town loca...</td>\n",
       "      <td>Beach</td>\n",
       "      <td>AgiosNikolaos Greece.txt</td>\n",
       "      <td>0.999876</td>\n",
       "      <td>0.000012</td>\n",
       "      <td>0.000077</td>\n",
       "      <td>0.000017</td>\n",
       "      <td>0.000018</td>\n",
       "    </tr>\n",
       "    <tr>\n",
       "      <th>2</th>\n",
       "      <td>3</td>\n",
       "      <td>Amalfi Coast in Italy is a stunning coastal pa...</td>\n",
       "      <td>Beach</td>\n",
       "      <td>AmalfiCoast Italy.txt</td>\n",
       "      <td>0.999940</td>\n",
       "      <td>0.000010</td>\n",
       "      <td>0.000019</td>\n",
       "      <td>0.000017</td>\n",
       "      <td>0.000013</td>\n",
       "    </tr>\n",
       "    <tr>\n",
       "      <th>3</th>\n",
       "      <td>4</td>\n",
       "      <td>Ao Nang, Thailand is a stunning tropical desti...</td>\n",
       "      <td>Beach</td>\n",
       "      <td>AoNang Thailand.txt</td>\n",
       "      <td>0.999819</td>\n",
       "      <td>0.000091</td>\n",
       "      <td>0.000007</td>\n",
       "      <td>0.000074</td>\n",
       "      <td>0.000009</td>\n",
       "    </tr>\n",
       "    <tr>\n",
       "      <th>4</th>\n",
       "      <td>5</td>\n",
       "      <td>Bali, Indonesia is a paradise for tourists. Th...</td>\n",
       "      <td>Beach</td>\n",
       "      <td>Bali Indonesia.txt</td>\n",
       "      <td>0.097054</td>\n",
       "      <td>0.728913</td>\n",
       "      <td>0.092032</td>\n",
       "      <td>0.076028</td>\n",
       "      <td>0.005973</td>\n",
       "    </tr>\n",
       "  </tbody>\n",
       "</table>\n",
       "</div>"
      ],
      "text/plain": [
       "   Index                                               Text  Label  \\\n",
       "0      1  Agadir is a beautiful coastal city located in ...  Beach   \n",
       "1      2  AgiosNikolaos is a beautiful coastal town loca...  Beach   \n",
       "2      3  Amalfi Coast in Italy is a stunning coastal pa...  Beach   \n",
       "3      4  Ao Nang, Thailand is a stunning tropical desti...  Beach   \n",
       "4      5  Bali, Indonesia is a paradise for tourists. Th...  Beach   \n",
       "\n",
       "                  File_Name   P_Beach    P_City  P_Culture  P_Nature    P_Snow  \n",
       "0        Agadir Morocco.txt  0.107777  0.890972   0.000546  0.000255  0.000450  \n",
       "1  AgiosNikolaos Greece.txt  0.999876  0.000012   0.000077  0.000017  0.000018  \n",
       "2     AmalfiCoast Italy.txt  0.999940  0.000010   0.000019  0.000017  0.000013  \n",
       "3       AoNang Thailand.txt  0.999819  0.000091   0.000007  0.000074  0.000009  \n",
       "4        Bali Indonesia.txt  0.097054  0.728913   0.092032  0.076028  0.005973  "
      ]
     },
     "execution_count": 34,
     "metadata": {},
     "output_type": "execute_result"
    }
   ],
   "source": [
    "df.head()"
   ]
  },
  {
   "cell_type": "code",
   "execution_count": 49,
   "id": "80c39735-6e8b-42ba-ad03-a3e7f74d3e4c",
   "metadata": {},
   "outputs": [],
   "source": [
    "# Extract the corresponding probability values for each input place\n",
    "input_probabilities = []\n",
    "for place in input_places:\n",
    "    text = [place]\n",
    "    input_probabilities.append(logreg.predict_proba(text))"
   ]
  },
  {
   "cell_type": "code",
   "execution_count": 50,
   "id": "6f05a9b3-9586-4106-b580-26cf3cc02871",
   "metadata": {},
   "outputs": [
    {
     "data": {
      "text/plain": [
       "\"\\nfor label in places:\\n    for place in places[label]:\\n        if place not in similarities:\\n            similarity = cosine_similarity(input_probabilities, [places[label][place]])[0]\\n            similarities[place] = similarity\\nfor i in places:\\n    similarity = cosine_similarity(input_probabilities, probabilities)\\n\\n# Sort the cosine similarity scores in descending order and select top 5 recommendations\\nrecommendations = sorted(similarities.items(), key=lambda x: x[1], reverse=True)[:5]\\nprint(f'Top 5 recommended places: {[r[0] for r in recommendations]}')\\n\""
      ]
     },
     "execution_count": 50,
     "metadata": {},
     "output_type": "execute_result"
    }
   ],
   "source": [
    "    \n",
    "# Calculate cosine similarity between input places and all places in the dictionary\n",
    "similarities = {}\n",
    "'''\n",
    "for label in places:\n",
    "    for place in places[label]:\n",
    "        if place not in similarities:\n",
    "            similarity = cosine_similarity(input_probabilities, [places[label][place]])[0]\n",
    "            similarities[place] = similarity\n",
    "for i in places:\n",
    "    similarity = cosine_similarity(input_probabilities, probabilities)\n",
    "\n",
    "# Sort the cosine similarity scores in descending order and select top 5 recommendations\n",
    "recommendations = sorted(similarities.items(), key=lambda x: x[1], reverse=True)[:5]\n",
    "print(f'Top 5 recommended places: {[r[0] for r in recommendations]}')\n",
    "'''"
   ]
  },
  {
   "cell_type": "code",
   "execution_count": 51,
   "id": "ad0d7c66-d7a6-4754-a775-085934fcd7a7",
   "metadata": {},
   "outputs": [
    {
     "name": "stdout",
     "output_type": "stream",
     "text": [
      "[array([[0.      , 0.999962, 0.000037, 0.000001, 0.      ]]), array([[0.000027, 0.999885, 0.000061, 0.000022, 0.000005]]), array([[0.999701, 0.000008, 0.000041, 0.000241, 0.00001 ]])]\n"
     ]
    }
   ],
   "source": [
    "print(input_probabilities)"
   ]
  },
  {
   "cell_type": "code",
   "execution_count": 52,
   "id": "26413ebf-d87b-4d52-9d06-782975c91a92",
   "metadata": {},
   "outputs": [
    {
     "ename": "IndexError",
     "evalue": "index 1 is out of bounds for axis 0 with size 1",
     "output_type": "error",
     "traceback": [
      "\u001b[1;31m---------------------------------------------------------------------------\u001b[0m",
      "\u001b[1;31mIndexError\u001b[0m                                Traceback (most recent call last)",
      "\u001b[1;32m~\\AppData\\Local\\Temp\\ipykernel_12036\\3046566441.py\u001b[0m in \u001b[0;36m<module>\u001b[1;34m\u001b[0m\n\u001b[0;32m      2\u001b[0m \u001b[0mj\u001b[0m \u001b[1;33m=\u001b[0m \u001b[1;36m0\u001b[0m\u001b[1;33m\u001b[0m\u001b[1;33m\u001b[0m\u001b[0m\n\u001b[0;32m      3\u001b[0m \u001b[1;32mfor\u001b[0m \u001b[0mi\u001b[0m \u001b[1;32min\u001b[0m \u001b[0minput_probabilities\u001b[0m\u001b[1;33m:\u001b[0m\u001b[1;33m\u001b[0m\u001b[1;33m\u001b[0m\u001b[0m\n\u001b[1;32m----> 4\u001b[1;33m     \u001b[0mprob_in\u001b[0m\u001b[1;33m.\u001b[0m\u001b[0mappend\u001b[0m\u001b[1;33m(\u001b[0m\u001b[0mi\u001b[0m\u001b[1;33m[\u001b[0m\u001b[0mj\u001b[0m\u001b[1;33m]\u001b[0m\u001b[1;33m[\u001b[0m\u001b[1;36m0\u001b[0m\u001b[1;33m]\u001b[0m\u001b[1;33m)\u001b[0m\u001b[1;33m\u001b[0m\u001b[1;33m\u001b[0m\u001b[0m\n\u001b[0m\u001b[0;32m      5\u001b[0m     \u001b[0mj\u001b[0m\u001b[1;33m+=\u001b[0m\u001b[1;36m1\u001b[0m\u001b[1;33m\u001b[0m\u001b[1;33m\u001b[0m\u001b[0m\n",
      "\u001b[1;31mIndexError\u001b[0m: index 1 is out of bounds for axis 0 with size 1"
     ]
    }
   ],
   "source": [
    "prob_in = []\n",
    "j = 0\n",
    "for i in input_probabilities:\n",
    "    prob_in.append(i[j][0])\n",
    "    j+=1"
   ]
  },
  {
   "cell_type": "code",
   "execution_count": 53,
   "id": "2e69f0b5-0f80-4dc3-b712-ee1e9fa5a4a0",
   "metadata": {},
   "outputs": [],
   "source": [
    "prob_in = [list(input_probabilities[0][0]),list(input_probabilities[1][0]),list(input_probabilities[2][0])]"
   ]
  },
  {
   "cell_type": "code",
   "execution_count": 54,
   "id": "cf47c637-3fb0-45cf-8602-9ac9e477ec8b",
   "metadata": {},
   "outputs": [
    {
     "data": {
      "text/plain": [
       "[[2.5987313793539035e-07,\n",
       "  0.9999620564124091,\n",
       "  3.678757904286416e-05,\n",
       "  6.57820560077745e-07,\n",
       "  2.3831484980034974e-07],\n",
       " [2.6922610494157554e-05,\n",
       "  0.9998846039885539,\n",
       "  6.13052428774125e-05,\n",
       "  2.222962096868446e-05,\n",
       "  4.938537105866407e-06],\n",
       " [0.999700612211529,\n",
       "  7.5300659268757384e-06,\n",
       "  4.068222798794992e-05,\n",
       "  0.0002414604373522623,\n",
       "  9.715057203862884e-06]]"
      ]
     },
     "execution_count": 54,
     "metadata": {},
     "output_type": "execute_result"
    }
   ],
   "source": [
    "prob_in"
   ]
  },
  {
   "cell_type": "code",
   "execution_count": 55,
   "id": "d75c3203-f466-4e6e-ae5f-4745be5a1fe0",
   "metadata": {},
   "outputs": [
    {
     "name": "stdout",
     "output_type": "stream",
     "text": [
      "[[0.992763 0.000012 0.00001  ... 0.000001 0.       0.      ]\n",
      " [0.992766 0.000039 0.000037 ... 0.000006 0.000005 0.000005]\n",
      " [0.120098 1.       1.       ... 0.000028 0.00001  0.000013]]\n",
      "(3, 478)\n"
     ]
    }
   ],
   "source": [
    "similarities = cosine_similarity(prob_in, df[['P_Beach', 'P_City', 'P_Culture', 'P_Nature', 'P_Snow']])\n",
    "print(similarities)\n",
    "print(similarities.shape)"
   ]
  },
  {
   "cell_type": "code",
   "execution_count": 56,
   "id": "cdae3e21-efcb-479a-b2c6-31690445f86a",
   "metadata": {},
   "outputs": [
    {
     "name": "stdout",
     "output_type": "stream",
     "text": [
      "[[110 133 140 193 183]\n",
      " [119 178 145 120 121]\n",
      " [ 81  41  76  74  45]]\n"
     ]
    }
   ],
   "source": [
    "top5_indices = np.argsort(similarities, axis=1)[:, -5:]\n",
    "print(top5_indices)"
   ]
  },
  {
   "cell_type": "code",
   "execution_count": 57,
   "id": "9c648c83-421d-43b5-9a29-c8b1a50eaa5b",
   "metadata": {},
   "outputs": [
    {
     "name": "stdout",
     "output_type": "stream",
     "text": [
      "[['Beijing China  ' 'Jakarta Indonesia  ' 'Kolkata India  '\n",
      "  'Yerevan Armenia  ' 'Taipei Taiwan  ']\n",
      " ['Chennai India  ' 'Siem Reap Cambodia ' 'London United Kingdom '\n",
      "  'Chiang Mai Thailand ' 'Da Nang Vietnam ']\n",
      " ['SanDiego USA ' 'Krabi Thailand ' 'RioGrande PuertoRico '\n",
      "  'Railay Thailand ' 'Maldives Maldives ']]\n"
     ]
    }
   ],
   "source": [
    "top5_filenames = df.iloc[top5_indices.flatten()]['File_Name'].values.reshape(top5_indices.shape)\n",
    "print(top5_filenames)"
   ]
  },
  {
   "cell_type": "code",
   "execution_count": 170,
   "id": "cdf32b46-59f2-4221-95af-a977e05b3b8e",
   "metadata": {},
   "outputs": [
    {
     "ename": "ValueError",
     "evalue": "The truth value of a Series is ambiguous. Use a.empty, a.bool(), a.item(), a.any() or a.all().",
     "output_type": "error",
     "traceback": [
      "\u001b[1;31m---------------------------------------------------------------------------\u001b[0m",
      "\u001b[1;31mValueError\u001b[0m                                Traceback (most recent call last)",
      "\u001b[1;32m~\\AppData\\Local\\Temp\\ipykernel_3044\\1340914817.py\u001b[0m in \u001b[0;36m<module>\u001b[1;34m\u001b[0m\n\u001b[1;32m----> 1\u001b[1;33m \u001b[1;32mif\u001b[0m\u001b[1;33m(\u001b[0m\u001b[0mdf\u001b[0m\u001b[1;33m[\u001b[0m\u001b[1;34m'Index'\u001b[0m\u001b[1;33m]\u001b[0m \u001b[1;33m==\u001b[0m \u001b[1;36m43\u001b[0m\u001b[1;33m)\u001b[0m \u001b[1;33m==\u001b[0m \u001b[1;32mTrue\u001b[0m\u001b[1;33m:\u001b[0m\u001b[1;33m\u001b[0m\u001b[1;33m\u001b[0m\u001b[0m\n\u001b[0m\u001b[0;32m      2\u001b[0m     \u001b[0mprint\u001b[0m\u001b[1;33m(\u001b[0m\u001b[0mdf\u001b[0m\u001b[1;33m[\u001b[0m\u001b[1;34m'File_Name'\u001b[0m\u001b[1;33m]\u001b[0m\u001b[1;33m)\u001b[0m\u001b[1;33m\u001b[0m\u001b[1;33m\u001b[0m\u001b[0m\n",
      "\u001b[1;32mC:\\ProgramData\\Anaconda3\\lib\\site-packages\\pandas\\core\\generic.py\u001b[0m in \u001b[0;36m__nonzero__\u001b[1;34m(self)\u001b[0m\n\u001b[0;32m   1525\u001b[0m     \u001b[1;33m@\u001b[0m\u001b[0mfinal\u001b[0m\u001b[1;33m\u001b[0m\u001b[1;33m\u001b[0m\u001b[0m\n\u001b[0;32m   1526\u001b[0m     \u001b[1;32mdef\u001b[0m \u001b[0m__nonzero__\u001b[0m\u001b[1;33m(\u001b[0m\u001b[0mself\u001b[0m\u001b[1;33m)\u001b[0m\u001b[1;33m:\u001b[0m\u001b[1;33m\u001b[0m\u001b[1;33m\u001b[0m\u001b[0m\n\u001b[1;32m-> 1527\u001b[1;33m         raise ValueError(\n\u001b[0m\u001b[0;32m   1528\u001b[0m             \u001b[1;34mf\"The truth value of a {type(self).__name__} is ambiguous. \"\u001b[0m\u001b[1;33m\u001b[0m\u001b[1;33m\u001b[0m\u001b[0m\n\u001b[0;32m   1529\u001b[0m             \u001b[1;34m\"Use a.empty, a.bool(), a.item(), a.any() or a.all().\"\u001b[0m\u001b[1;33m\u001b[0m\u001b[1;33m\u001b[0m\u001b[0m\n",
      "\u001b[1;31mValueError\u001b[0m: The truth value of a Series is ambiguous. Use a.empty, a.bool(), a.item(), a.any() or a.all()."
     ]
    }
   ],
   "source": [
    "if(df['Index'] == 43) == True:\n",
    "    print(df['File_Name'])"
   ]
  },
  {
   "cell_type": "code",
   "execution_count": 58,
   "id": "e4dbc7fe-c5a5-4bc4-8e2d-379427a61f6b",
   "metadata": {},
   "outputs": [
    {
     "name": "stdout",
     "output_type": "stream",
     "text": [
      "[['Beijing China  ', 'Jakarta Indonesia  ', 'Kolkata India  ', 'Yerevan Armenia  ', 'Taipei Taiwan  '], ['Chennai India  ', 'Siem Reap Cambodia ', 'London United Kingdom ', 'Chiang Mai Thailand ', 'Da Nang Vietnam '], ['SanDiego USA ', 'Krabi Thailand ', 'RioGrande PuertoRico ', 'Railay Thailand ', 'Maldives Maldives ']]\n"
     ]
    }
   ],
   "source": [
    "top5_filenames = []\n",
    "for row_indices in top5_indices:\n",
    "    filenames = []\n",
    "    for index in row_indices:\n",
    "        filenames.append(df.iloc[index]['File_Name'])\n",
    "    top5_filenames.append(filenames)\n",
    "print(top5_filenames)"
   ]
  },
  {
   "cell_type": "code",
   "execution_count": 59,
   "id": "12604008-f370-4b6b-8537-434295aa30bb",
   "metadata": {},
   "outputs": [
    {
     "name": "stdout",
     "output_type": "stream",
     "text": [
      "Beijing China   \n",
      " Chennai India   \n",
      " SanDiego USA \n"
     ]
    }
   ],
   "source": [
    "print(top5_filenames[0][0],\"\\n\",top5_filenames[1][0],\"\\n\",top5_filenames[2][0])"
   ]
  },
  {
   "cell_type": "code",
   "execution_count": 60,
   "id": "028212f3-6218-47d1-934c-4e2a4d2d8830",
   "metadata": {},
   "outputs": [
    {
     "name": "stdout",
     "output_type": "stream",
     "text": [
      "['Beach', 'Beach', 'Beach', 'Beach', 'Beach', 'Beach', 'Beach', 'Beach', 'Beach', 'Beach', 'Beach', 'Beach', 'Beach', 'Beach', 'Beach', 'Beach', 'Beach', 'Beach', 'Beach', 'Beach', 'Beach', 'Beach', 'Beach', 'Beach', 'Beach', 'Beach', 'Beach', 'Beach', 'Beach', 'Beach', 'Beach', 'Beach', 'Beach', 'Beach', 'Beach', 'Beach', 'Beach', 'Beach', 'Beach', 'Beach', 'Beach', 'Beach', 'Beach', 'Beach', 'Beach', 'Beach', 'Beach', 'Beach', 'Beach', 'Beach', 'Beach', 'Beach', 'Beach', 'Beach', 'Beach', 'Beach', 'Beach', 'Beach', 'Beach', 'Beach', 'Beach', 'Beach', 'Beach', 'Beach', 'Beach', 'Beach', 'Beach', 'Beach', 'Beach', 'Beach', 'Beach', 'Beach', 'Beach', 'Beach', 'Beach', 'Beach', 'Beach', 'Beach', 'Beach', 'Beach', 'Beach', 'Beach', 'Beach', 'Beach', 'Beach', 'Beach', 'Beach', 'Beach', 'Beach', 'Beach', 'Beach', 'Beach', 'Beach', 'Beach', 'Beach', 'Beach', 'Beach', 'Beach', 'Beach', 'City', 'City', 'City', 'City', 'City', 'City', 'City', 'City', 'City', 'City', 'City', 'City', 'City', 'City', 'City', 'City', 'City', 'City', 'City', 'City', 'City', 'City', 'City', 'City', 'City', 'City', 'City', 'City', 'City', 'City', 'City', 'City', 'City', 'City', 'City', 'City', 'City', 'City', 'City', 'City', 'City', 'City', 'City', 'City', 'City', 'City', 'City', 'City', 'City', 'City', 'City', 'City', 'City', 'City', 'City', 'City', 'City', 'City', 'City', 'City', 'City', 'City', 'City', 'City', 'City', 'City', 'City', 'City', 'City', 'City', 'City', 'City', 'City', 'City', 'City', 'City', 'City', 'City', 'City', 'City', 'City', 'City', 'City', 'City', 'City', 'City', 'City', 'City', 'City', 'City', 'City', 'City', 'City', 'City', 'City', 'City', 'Culture', 'Culture', 'Culture', 'Culture', 'Culture', 'Culture', 'Culture', 'Culture', 'Culture', 'Culture', 'Culture', 'Culture', 'Culture', 'Culture', 'Culture', 'Culture', 'Culture', 'Culture', 'Culture', 'Culture', 'Culture', 'Culture', 'Culture', 'Culture', 'Culture', 'Culture', 'Culture', 'Culture', 'Culture', 'Culture', 'Culture', 'Culture', 'Culture', 'Culture', 'Culture', 'Culture', 'Culture', 'Culture', 'Culture', 'Culture', 'Culture', 'Culture', 'Culture', 'Culture', 'Culture', 'Culture', 'Culture', 'Culture', 'Culture', 'Culture', 'Culture', 'Culture', 'Culture', 'Culture', 'Culture', 'Culture', 'Culture', 'Culture', 'Culture', 'Culture', 'Culture', 'Culture', 'Culture', 'Culture', 'Culture', 'Culture', 'Culture', 'Culture', 'Culture', 'Culture', 'Culture', 'Culture', 'Culture', 'Culture', 'Culture', 'Culture', 'Culture', 'Culture', 'Culture', 'Culture', 'Culture', 'Culture', 'Culture', 'Culture', 'Culture', 'Culture', 'Culture', 'Culture', 'Culture', 'Culture', 'Culture', 'Culture', 'Culture', 'Culture', 'Nature', 'Nature', 'Nature', 'Nature', 'Nature', 'Nature', 'Nature', 'Nature', 'Nature', 'Nature', 'Nature', 'Nature', 'Nature', 'Nature', 'Nature', 'Nature', 'Nature', 'Nature', 'Nature', 'Nature', 'Nature', 'Nature', 'Nature', 'Nature', 'Nature', 'Nature', 'Nature', 'Nature', 'Nature', 'Nature', 'Nature', 'Nature', 'Nature', 'Nature', 'Nature', 'Nature', 'Nature', 'Nature', 'Nature', 'Nature', 'Nature', 'Nature', 'Nature', 'Nature', 'Nature', 'Nature', 'Nature', 'Nature', 'Nature', 'Nature', 'Nature', 'Nature', 'Nature', 'Nature', 'Nature', 'Nature', 'Nature', 'Nature', 'Nature', 'Nature', 'Nature', 'Nature', 'Nature', 'Nature', 'Nature', 'Nature', 'Nature', 'Nature', 'Nature', 'Nature', 'Nature', 'Nature', 'Nature', 'Nature', 'Nature', 'Nature', 'Nature', 'Nature', 'Nature', 'Nature', 'Nature', 'Nature', 'Nature', 'Nature', 'Nature', 'Nature', 'Nature', 'Nature', 'Nature', 'Nature', 'Nature', 'Nature', 'Nature', 'Nature', 'Nature', 'Nature', 'Nature', 'Nature', 'Nature', 'Nature', 'Snow', 'Snow', 'Snow', 'Snow', 'Snow', 'Snow', 'Snow', 'Snow', 'Snow', 'Snow', 'Snow', 'Snow', 'Snow', 'Snow', 'Snow', 'Snow', 'Snow', 'Snow', 'Snow', 'Snow', 'Snow', 'Snow', 'Snow', 'Snow', 'Snow', 'Snow', 'Snow', 'Snow', 'Snow', 'Snow', 'Snow', 'Snow', 'Snow', 'Snow', 'Snow', 'Snow', 'Snow', 'Snow', 'Snow', 'Snow', 'Snow', 'Snow', 'Snow', 'Snow', 'Snow', 'Snow', 'Snow', 'Snow', 'Snow', 'Snow', 'Snow', 'Snow', 'Snow', 'Snow', 'Snow', 'Snow', 'Snow', 'Snow', 'Snow', 'Snow', 'Snow', 'Snow', 'Snow', 'Snow', 'Snow', 'Snow', 'Snow', 'Snow', 'Snow', 'Snow', 'Snow', 'Snow', 'Snow', 'Snow', 'Snow', 'Snow', 'Snow', 'Snow', 'Snow', 'Snow', 'Snow', 'Snow', 'Snow', 'Snow', 'Snow', 'Snow', 'Snow', 'Snow', 'Snow']\n",
      "['Beijing China  ', 'Jakarta Indonesia  ', 'Kolkata India  ', 'Yerevan Armenia  ', 'Taipei Taiwan  ']\n"
     ]
    }
   ],
   "source": [
    "print(list((labels)))\n",
    "print(top5_filenames[0])"
   ]
  },
  {
   "cell_type": "code",
   "execution_count": 61,
   "id": "809013c8-fbdd-4477-884d-ae7a90fa43f1",
   "metadata": {},
   "outputs": [
    {
     "name": "stdout",
     "output_type": "stream",
     "text": [
      "Taipei Taiwan  \n",
      "Da Nang Vietnam \n",
      "Maldives Maldives \n"
     ]
    }
   ],
   "source": [
    "for k in range(len(top5_filenames)):\n",
    "    print(top5_filenames[k][4])"
   ]
  },
  {
   "cell_type": "code",
   "execution_count": null,
   "id": "5e4418ab-3951-4fd6-aba2-38512f7a3cb6",
   "metadata": {},
   "outputs": [],
   "source": []
  }
 ],
 "metadata": {
  "kernelspec": {
   "display_name": "Python 3 (ipykernel)",
   "language": "python",
   "name": "python3"
  },
  "language_info": {
   "codemirror_mode": {
    "name": "ipython",
    "version": 3
   },
   "file_extension": ".py",
   "mimetype": "text/x-python",
   "name": "python",
   "nbconvert_exporter": "python",
   "pygments_lexer": "ipython3",
   "version": "3.9.13"
  }
 },
 "nbformat": 4,
 "nbformat_minor": 5
}
